{
 "cells": [
  {
   "cell_type": "markdown",
   "metadata": {},
   "source": [
    "# A review of Python\n",
    "\n",
    "<div class=\"alert alert-block alert-danger\">\n",
    "<b>Check the Kernel you are using:</b> Before we get started, if you are running this on HiPerGator, double check the kernel in use. This is shown in the top right of the window and should look like: <img src=\"images/kernel.python38.png\" alt\"Image showing that the notebook is using the Python 3.8 Full kernel\" style=\"float:right\">\n",
    "</div>\n",
    "\n",
    "This notebook has been adapted from the [UF Data Science and Informatics](http://www.dsiufl.org/) [Python 0 workshop](https://github.com/dsiufl/Python-Workshops).\n",
    "\n",
    "\n",
    "## About UF DSI--The original creators of this content [<img src=\"images/UF_DSI_logo.png\" alt=\"UF DSI Logo\" style=\"width: 200px;float:right\"/>](http://www.dsiufl.org/)\n",
    "\n",
    "> We are an multi- and inter- disciplinary student organization that is dediated to promoting Data Science here at the Univeristy of Florida. We are partnered with the UF Informatics Institute who's aim is to foster informatics research and education.\n",
    "\n",
    "## What is Python?\n",
    "\n",
    "Python is an easy-to-use and robust **Object-Oriented** programming language. A lot of new software application are built with Python for this reason. It is used in other areas of computer science such and software engineering, digital arts, cybersecurity, and of course Data Science! \n",
    "\n",
    "This is a workshop that will introduce you to the basics of python and introduce you to Data Science and Visualization in Python. Due to the breadth of the language there are still many topics left for you to explore! Here we teach you the necessary skills. \n",
    "\n",
    "\n",
    "<div class=\"alert alert-block alert-info\">\n",
    "    <b>Object Oriented Programming (or OOP)</b> is a popular paradigm in programming. Classes and the Objects created from them offer a level of abstraction that facilitates coding by compartmentalizing data and the methods that opperate on these data. Here are some resources for more information on OOP:\n",
    "    <ul>\n",
    "        <li><a href=\"https://www.freecodecamp.org/news/object-oriented-programming-concepts-21bb035f7260/\">How to explain object-oriented programming concepts to a 6-year-old</a><\\li>\n",
    "            <li><a href=\"https://github.com/comptoolsres/Jupyter_content/blob/main/py4e_ch14_ObjectOrientedProgramming.ipynb\">A Jupyter notebook with my notes on OOP for my Computational Tools class</a></li>\n",
    "    </ul>\n",
    "</div>"
   ]
  },
  {
   "cell_type": "markdown",
   "metadata": {},
   "source": [
    "## Variables and Types"
   ]
  },
  {
   "cell_type": "markdown",
   "metadata": {},
   "source": [
    "#### Calculator\n",
    "\n",
    "Python can be used as a calculator. <code>Shift+Enter</code> runs the code block so you don't have to click run every time"
   ]
  },
  {
   "cell_type": "code",
   "execution_count": 1,
   "metadata": {},
   "outputs": [
    {
     "data": {
      "text/plain": [
       "-3"
      ]
     },
     "execution_count": 1,
     "metadata": {},
     "output_type": "execute_result"
    }
   ],
   "source": [
    "# Addition and Subtraction\n",
    "(3+2)-8"
   ]
  },
  {
   "cell_type": "code",
   "execution_count": 2,
   "metadata": {},
   "outputs": [
    {
     "data": {
      "text/plain": [
       "1.2"
      ]
     },
     "execution_count": 2,
     "metadata": {},
     "output_type": "execute_result"
    }
   ],
   "source": [
    "# Multiplication and Division\n",
    "(3*2)/5"
   ]
  },
  {
   "cell_type": "code",
   "execution_count": 3,
   "metadata": {},
   "outputs": [
    {
     "data": {
      "text/plain": [
       "729"
      ]
     },
     "execution_count": 3,
     "metadata": {},
     "output_type": "execute_result"
    }
   ],
   "source": [
    "# Exponentiation\n",
    "3**6"
   ]
  },
  {
   "cell_type": "markdown",
   "metadata": {},
   "source": [
    "Variables can be given alphanumeric names beginning with an underscore or letter.  **Variable types do not have to be declared and are inferred at run time.**\n",
    "\n",
    "<div class=\"alert alert-block alert-info\">\n",
    "<b>Note:</b> Python is what is referred to as \"dynamically typed\", variables do have a type, but that type is inferred based on the data that the variable holds at any given time. This has advantages and disadvantages. Speed is one disadvantage--any operation on a variable needs to first determine the variable's type and then the appropriate opperation can be made.</div>"
   ]
  },
  {
   "cell_type": "code",
   "execution_count": 4,
   "metadata": {},
   "outputs": [
    {
     "name": "stdout",
     "output_type": "stream",
     "text": [
      "<class 'int'>\n"
     ]
    }
   ],
   "source": [
    "a = 1\n",
    "print(type(a)) # Built in function"
   ]
  },
  {
   "cell_type": "code",
   "execution_count": 5,
   "metadata": {},
   "outputs": [
    {
     "name": "stdout",
     "output_type": "stream",
     "text": [
      "<class 'float'>\n"
     ]
    }
   ],
   "source": [
    "b = 2.5 \n",
    "print(type(b))"
   ]
  },
  {
   "cell_type": "markdown",
   "metadata": {},
   "source": [
    "Strings can be declared with either single or double quotes."
   ]
  },
  {
   "cell_type": "code",
   "execution_count": 6,
   "metadata": {},
   "outputs": [
    {
     "name": "stdout",
     "output_type": "stream",
     "text": [
      "Go Gators\n",
      "<class 'str'>\n"
     ]
    }
   ],
   "source": [
    "c1 = \"Go \"\n",
    "c2 = 'Gators'\n",
    "c3 = c1 + c2\n",
    "print(c3)\n",
    "print(type(c3))"
   ]
  },
  {
   "cell_type": "markdown",
   "metadata": {},
   "source": [
    "### Exercise 1\n",
    "\n",
    "Some things to try:\n",
    " * Practive making some variables of different types. \n",
    " * See what happens when you add, subtract, divide integers and floating point numbers. \n",
    " * Practice printing and formatting output."
   ]
  },
  {
   "cell_type": "code",
   "execution_count": null,
   "metadata": {},
   "outputs": [],
   "source": [
    "# Integers \n",
    "\n",
    "# Floats\n",
    "\n",
    "# Strings\n",
    "\n",
    "# Add two int variables\n",
    "\n",
    "# Add two float variables\n",
    "\n",
    "# Add an int and a float\n",
    "\n",
    "# Divide a int by a float\n"
   ]
  },
  {
   "cell_type": "code",
   "execution_count": null,
   "metadata": {},
   "outputs": [],
   "source": [
    "# Uncomment and run the line below for a solution\n",
    "# %load snippets/Ex_01.variables.py"
   ]
  },
  {
   "cell_type": "markdown",
   "metadata": {},
   "source": [
    "## Modules and Import\n",
    "\n",
    "~~Files with a .py extension are known as Modules in Python.~~ By convention, Python scripts are saved with a `.py` file extension. A Module is little more than a Python script and its functions and class definitions can be imported into other scripts or notebooks. Modules are used to store functions, variables, and class definitions.  \n",
    "\n",
    "The Python language is intentionally limited in its functionality, with required features being added as needed.\n",
    "\n",
    "Modules that are not part of the standard Python library are included in your program using the <code>import</code> statement."
   ]
  },
  {
   "cell_type": "code",
   "execution_count": 7,
   "metadata": {},
   "outputs": [
    {
     "ename": "NameError",
     "evalue": "name 'cos' is not defined",
     "output_type": "error",
     "traceback": [
      "\u001b[0;31m---------------------------------------------------------------------------\u001b[0m",
      "\u001b[0;31mNameError\u001b[0m                                 Traceback (most recent call last)",
      "\u001b[0;32m<ipython-input-7-5b8b9e4a0735>\u001b[0m in \u001b[0;36m<module>\u001b[0;34m\u001b[0m\n\u001b[1;32m      1\u001b[0m \u001b[0;31m# To use Math, we must import it\u001b[0m\u001b[0;34m\u001b[0m\u001b[0;34m\u001b[0m\u001b[0;34m\u001b[0m\u001b[0m\n\u001b[1;32m      2\u001b[0m \u001b[0;32mimport\u001b[0m \u001b[0mmath\u001b[0m\u001b[0;34m\u001b[0m\u001b[0;34m\u001b[0m\u001b[0m\n\u001b[0;32m----> 3\u001b[0;31m \u001b[0mprint\u001b[0m\u001b[0;34m(\u001b[0m\u001b[0mcos\u001b[0m\u001b[0;34m(\u001b[0m\u001b[0;36m0\u001b[0m\u001b[0;34m)\u001b[0m\u001b[0;34m)\u001b[0m\u001b[0;34m\u001b[0m\u001b[0;34m\u001b[0m\u001b[0m\n\u001b[0m",
      "\u001b[0;31mNameError\u001b[0m: name 'cos' is not defined"
     ]
    }
   ],
   "source": [
    "# To use Math, we must import it\n",
    "import math\n",
    "print(cos(0))"
   ]
  },
  {
   "cell_type": "markdown",
   "metadata": {},
   "source": [
    "Whoops.  Importing the <code>math</code> module allows us access to all of its functions, but we must call them in this way"
   ]
  },
  {
   "cell_type": "code",
   "execution_count": 8,
   "metadata": {},
   "outputs": [
    {
     "name": "stdout",
     "output_type": "stream",
     "text": [
      "1.0\n"
     ]
    }
   ],
   "source": [
    "print(math.cos(0))"
   ]
  },
  {
   "cell_type": "markdown",
   "metadata": {},
   "source": [
    "Alternatively, you can use the <code>from</code> keyword"
   ]
  },
  {
   "cell_type": "code",
   "execution_count": 9,
   "metadata": {},
   "outputs": [
    {
     "name": "stdout",
     "output_type": "stream",
     "text": [
      "-1.0\n"
     ]
    }
   ],
   "source": [
    "from math import cos\n",
    "print(cos(math.pi)) # we only imported cos, not the pi constant"
   ]
  },
  {
   "cell_type": "markdown",
   "metadata": {},
   "source": [
    "Using the <code>from</code> statement we can import everything from the math module.  \n",
    "\n",
    "<div class=\"alert alert-block alert-warning\">\n",
    "    <b>Disclaimer:</b> many Pythonistas discourage using <code>from ____ import *</code> for performance reasons and to avoid namespace conflicts.  <b>Only import what you need</b>. \n",
    "</div>\n"
   ]
  },
  {
   "cell_type": "code",
   "execution_count": 10,
   "metadata": {},
   "outputs": [
    {
     "name": "stdout",
     "output_type": "stream",
     "text": [
      "1.0\n"
     ]
    }
   ],
   "source": [
    "from math import *\n",
    "print(sin(pi/2)) # now we don't have to make a call to math"
   ]
  },
  {
   "cell_type": "markdown",
   "metadata": {},
   "source": [
    "## Strings\n",
    "As you may expect, Python has a powerful, full featured string module.  \n",
    "\n",
    "### Substrings\n",
    "Python strings can be substringed using bracket syntax"
   ]
  },
  {
   "cell_type": "code",
   "execution_count": 12,
   "metadata": {},
   "outputs": [
    {
     "name": "stdout",
     "output_type": "stream",
     "text": [
      "Come on Gators\n"
     ]
    }
   ],
   "source": [
    "mystring = \"Go Gators, Come on Gators, Get up and go!\"\n",
    "print(mystring[11:25])"
   ]
  },
  {
   "cell_type": "markdown",
   "metadata": {},
   "source": [
    "**Python is a 0-index based language.**  Generally whenever forming a range of values in Python, the first argument is inclusive whereas the second is not, i.e. <code>mystring[11:25]</code> returns characters 11 through 24.\n",
    "\n",
    "You can omit the first or second argument"
   ]
  },
  {
   "cell_type": "code",
   "execution_count": 12,
   "metadata": {},
   "outputs": [
    {
     "name": "stdout",
     "output_type": "stream",
     "text": [
      "Go Gators\n"
     ]
    }
   ],
   "source": [
    "print(mystring[:9]) # all characters before the 9th index"
   ]
  },
  {
   "cell_type": "code",
   "execution_count": 13,
   "metadata": {},
   "outputs": [
    {
     "name": "stdout",
     "output_type": "stream",
     "text": [
      "Get up and go!\n"
     ]
    }
   ],
   "source": [
    "print(mystring[27:]) # all characters at or after the 27th"
   ]
  },
  {
   "cell_type": "code",
   "execution_count": 14,
   "metadata": {},
   "outputs": [
    {
     "name": "stdout",
     "output_type": "stream",
     "text": [
      "Go Gators, Come on Gators, Get up and go!\n"
     ]
    }
   ],
   "source": [
    "print(mystring[:]) # you can even omit both arguments"
   ]
  },
  {
   "cell_type": "markdown",
   "metadata": {},
   "source": [
    "Using negative values, you can count positions backwards"
   ]
  },
  {
   "cell_type": "code",
   "execution_count": 15,
   "metadata": {},
   "outputs": [
    {
     "name": "stdout",
     "output_type": "stream",
     "text": [
      "go\n"
     ]
    }
   ],
   "source": [
    "print(mystring[-3:-1])"
   ]
  },
  {
   "cell_type": "markdown",
   "metadata": {},
   "source": [
    "### Exercise 2\n",
    "\n",
    "Write the code to print the substring Gators. You can use either occurence of the word in the string."
   ]
  },
  {
   "cell_type": "code",
   "execution_count": null,
   "metadata": {},
   "outputs": [],
   "source": [
    "# Add your code here\n",
    "\n"
   ]
  },
  {
   "cell_type": "code",
   "execution_count": 1,
   "metadata": {},
   "outputs": [],
   "source": [
    "# Uncomment and run the line below for a solution\n",
    "#%load snippets/Ex_02.substring_Gators.py"
   ]
  },
  {
   "cell_type": "markdown",
   "metadata": {},
   "source": [
    "### String Functions\n",
    "Here are some more useful string functions\n"
   ]
  },
  {
   "cell_type": "markdown",
   "metadata": {},
   "source": [
    "#### lower and upper\n",
    "\n",
    "<div class=\"alert alert-block alert-info\">\n",
    "    \n",
    "<b>Note:</b> Referring back to the idea of OOP: classes and objects, a there is a string class and <code>mystring</code> is an object made from that class. The class has several methods, <code>.lower()</code> and <code>.upper()</code> are two methods of the string class and can be applied to the <code>mystring</code> object.\n",
    "    \n",
    "</div>"
   ]
  },
  {
   "cell_type": "code",
   "execution_count": 18,
   "metadata": {
    "scrolled": true
   },
   "outputs": [
    {
     "name": "stdout",
     "output_type": "stream",
     "text": [
      "go gators, come on gators, get up and go!\n",
      "GO GATORS, COME ON GATORS, GET UP AND GO!\n"
     ]
    }
   ],
   "source": [
    "print(mystring.lower())\n",
    "print(mystring.upper())"
   ]
  },
  {
   "cell_type": "markdown",
   "metadata": {},
   "source": [
    "#### find"
   ]
  },
  {
   "cell_type": "code",
   "execution_count": 16,
   "metadata": {},
   "outputs": [
    {
     "name": "stdout",
     "output_type": "stream",
     "text": [
      "3\n"
     ]
    }
   ],
   "source": [
    "print(mystring.find(\"Gators\")) # returns the index of the first occurence of Gators"
   ]
  },
  {
   "cell_type": "markdown",
   "metadata": {},
   "source": [
    "Looks like nothing was found.  -1 is returned by default."
   ]
  },
  {
   "cell_type": "code",
   "execution_count": 17,
   "metadata": {},
   "outputs": [
    {
     "name": "stdout",
     "output_type": "stream",
     "text": [
      "-1\n"
     ]
    }
   ],
   "source": [
    "print (mystring.find(\"Seminoles\")) # no Seminoles here"
   ]
  },
  {
   "cell_type": "markdown",
   "metadata": {},
   "source": [
    "#### split"
   ]
  },
  {
   "cell_type": "code",
   "execution_count": 19,
   "metadata": {},
   "outputs": [
    {
     "name": "stdout",
     "output_type": "stream",
     "text": [
      "['Go', 'Gators,', 'Come', 'on', 'Gators,', 'Get', 'up', 'and', 'go!']\n"
     ]
    }
   ],
   "source": [
    "print(mystring.split()) # returns a list of strings broken by a space by default"
   ]
  },
  {
   "cell_type": "code",
   "execution_count": 20,
   "metadata": {},
   "outputs": [
    {
     "name": "stdout",
     "output_type": "stream",
     "text": [
      "['Go Gators', ' Come on Gators', ' Get up and go!']\n"
     ]
    }
   ],
   "source": [
    "print(mystring.split(',')) # you can also define the separator"
   ]
  },
  {
   "cell_type": "markdown",
   "metadata": {},
   "source": [
    "#### join\n",
    "\n",
    "The <code>join</code> is useful for building strings from lists or other iterables.  Call <code>join</code> on the desired separator"
   ]
  },
  {
   "cell_type": "code",
   "execution_count": 21,
   "metadata": {},
   "outputs": [
    {
     "name": "stdout",
     "output_type": "stream",
     "text": [
      "Go Gators\n"
     ]
    }
   ],
   "source": [
    "print(' '.join([\"Go\", \"Gators\"]))"
   ]
  },
  {
   "cell_type": "markdown",
   "metadata": {},
   "source": [
    "For more information on string functions:\n",
    "\n",
    "https://docs.python.org/3.8/library/stdtypes.html#string-methods"
   ]
  },
  {
   "cell_type": "markdown",
   "metadata": {},
   "source": [
    "### Exercise 3\n",
    "\n",
    "Reading Documentation is an important skill. There are many string methods. Have a look over the [String Methods section of the Python documentation](https://docs.python.org/3.8/library/stdtypes.html#string-methods) and impliment two new methods, e.g. try the `.replace()` method or the `.swapcase()` method). "
   ]
  },
  {
   "cell_type": "code",
   "execution_count": null,
   "metadata": {},
   "outputs": [],
   "source": []
  },
  {
   "cell_type": "markdown",
   "metadata": {},
   "source": [
    "## Lists\n",
    "The Python standard library does not have traditional C-style fixed-memory fixed-type arrays.  Instead, lists are used and can contain a mix of any type.\n",
    "\n",
    "Lists are created with square brackets []"
   ]
  },
  {
   "cell_type": "code",
   "execution_count": 22,
   "metadata": {},
   "outputs": [
    {
     "name": "stdout",
     "output_type": "stream",
     "text": [
      "[1, 2, 3, 4, 'five']\n"
     ]
    }
   ],
   "source": [
    "mylist = [1, 2, 3, 4, 'five'] # Note that a list can have multiple variable types\n",
    "print(mylist)"
   ]
  },
  {
   "cell_type": "code",
   "execution_count": 23,
   "metadata": {},
   "outputs": [
    {
     "name": "stdout",
     "output_type": "stream",
     "text": [
      "[1, 2, 3, 4, 'five', 6.0]\n"
     ]
    }
   ],
   "source": [
    "mylist.append(6.0) # add an item to the end of the list\n",
    "print(mylist)"
   ]
  },
  {
   "cell_type": "code",
   "execution_count": 24,
   "metadata": {},
   "outputs": [
    {
     "name": "stdout",
     "output_type": "stream",
     "text": [
      "[1, 2, 3, 4, 'five', 6.0, 7]\n"
     ]
    }
   ],
   "source": [
    "mylist.insert(6, 7) # insert the number 7 at index 6\n",
    "print(mylist)"
   ]
  },
  {
   "cell_type": "code",
   "execution_count": 25,
   "metadata": {},
   "outputs": [
    {
     "name": "stdout",
     "output_type": "stream",
     "text": [
      "[1, 2, 3, 4, 6.0, 7]\n"
     ]
    }
   ],
   "source": [
    "mylist.remove('five') # removes the first matching occurence \n",
    "print(mylist)"
   ]
  },
  {
   "cell_type": "code",
   "execution_count": 26,
   "metadata": {
    "scrolled": true
   },
   "outputs": [
    {
     "name": "stdout",
     "output_type": "stream",
     "text": [
      "7\n",
      "[1, 2, 3, 4, 6.0]\n"
     ]
    }
   ],
   "source": [
    "popped = mylist.pop() # by default, the last item in the list is removed and returned\n",
    "print(popped)\n",
    "print(mylist)"
   ]
  },
  {
   "cell_type": "code",
   "execution_count": 27,
   "metadata": {},
   "outputs": [
    {
     "name": "stdout",
     "output_type": "stream",
     "text": [
      "5\n"
     ]
    }
   ],
   "source": [
    "print(len(mylist)) # returns the length of any iterable such as lists and strings"
   ]
  },
  {
   "cell_type": "code",
   "execution_count": 28,
   "metadata": {},
   "outputs": [
    {
     "name": "stdout",
     "output_type": "stream",
     "text": [
      "[1, 2, 3, 4, 6.0]\n"
     ]
    }
   ],
   "source": [
    "# default list sorting. When more complex objects are in the list, arguments can be used to customize how to sort\n",
    "mylist.sort()\n",
    "print(mylist)"
   ]
  },
  {
   "cell_type": "code",
   "execution_count": 29,
   "metadata": {},
   "outputs": [
    {
     "name": "stdout",
     "output_type": "stream",
     "text": [
      "[6.0, 4, 3, 2, 1]\n"
     ]
    }
   ],
   "source": [
    "mylist.reverse() # reverse the list\n",
    "print(mylist)"
   ]
  },
  {
   "cell_type": "markdown",
   "metadata": {},
   "source": [
    "For more information on Lists:\n",
    "\n",
    "https://docs.python.org/3.8/tutorial/datastructures.html#more-on-lists"
   ]
  },
  {
   "cell_type": "markdown",
   "metadata": {},
   "source": [
    "## Conditionals\n",
    "Python supports the standard if-else-if conditional expression. REMEMBER TO INDENT"
   ]
  },
  {
   "cell_type": "code",
   "execution_count": 30,
   "metadata": {},
   "outputs": [
    {
     "name": "stdout",
     "output_type": "stream",
     "text": [
      "a is less than b\n"
     ]
    }
   ],
   "source": [
    "a = 1; b = 2\n",
    "\n",
    "if a > b:\n",
    "    print (\"a is greater than b\")\n",
    "elif a < b:\n",
    "    print (\"a is less than b\")\n",
    "else:\n",
    "    print(\"a is equal to b\")"
   ]
  },
  {
   "cell_type": "markdown",
   "metadata": {},
   "source": [
    "## Loops\n",
    "Python supports for, foreach, and while loops\n",
    "### For (counting)\n",
    "Traditional counting loops are accomplished in Python with a combination of the <code>for</code> key word and the <code>range</code> function"
   ]
  },
  {
   "cell_type": "code",
   "execution_count": 31,
   "metadata": {},
   "outputs": [
    {
     "name": "stdout",
     "output_type": "stream",
     "text": [
      "0\n",
      "1\n",
      "2\n",
      "3\n",
      "4\n",
      "5\n",
      "6\n",
      "7\n",
      "8\n",
      "9\n"
     ]
    }
   ],
   "source": [
    "for x in range(10): # with one argument, range produces integers from 0 to 9\n",
    "    print (x)"
   ]
  },
  {
   "cell_type": "code",
   "execution_count": 32,
   "metadata": {},
   "outputs": [
    {
     "name": "stdout",
     "output_type": "stream",
     "text": [
      "1\n",
      "4\n",
      "7\n",
      "10\n"
     ]
    }
   ],
   "source": [
    "for z in range(1, 12, 3): # with three arguments, range starts at 1 and goes in steps of 3 until greater than 12\n",
    "    print(z)"
   ]
  },
  {
   "cell_type": "markdown",
   "metadata": {},
   "source": [
    "### Foreach\n",
    "As it turns out, counting loops are just foreach loops in Python.  The <code>range</code> function returns a list of integers over which <code>for in</code> iterates.  This can be extended to any other iterable type"
   ]
  },
  {
   "cell_type": "code",
   "execution_count": 33,
   "metadata": {},
   "outputs": [
    {
     "name": "stdout",
     "output_type": "stream",
     "text": [
      "foo\n",
      "bar\n"
     ]
    }
   ],
   "source": [
    "for i in ['foo', 'bar']: # iterate over a list of strings\n",
    "    print (i)"
   ]
  },
  {
   "cell_type": "markdown",
   "metadata": {},
   "source": [
    "### Exercise 4\n",
    "\n",
    "Let's combine conditionals and for loops. Write code to go through the integers from 0 to 10 and print \"Odd\" for odd numbers, \"Even\" for even numbers, \"Less than 5\" for numbers less than 5, \"Equals 5\" for 5, and \"Greater than 5\" for numbers greater than 5.\n"
   ]
  },
  {
   "cell_type": "code",
   "execution_count": null,
   "metadata": {},
   "outputs": [],
   "source": [
    "# Your code here\n"
   ]
  },
  {
   "cell_type": "code",
   "execution_count": null,
   "metadata": {},
   "outputs": [],
   "source": [
    "# Uncomment and run the line below for a solution\n",
    "#%load snippets/Ex_04.loop_conditional.py"
   ]
  },
  {
   "cell_type": "markdown",
   "metadata": {},
   "source": [
    "## Functions\n",
    "\n",
    "Functions are an important part of good coding. They help break your code into functional elements, making your code easier to write, read and maintain. This is one step of **abstraction**--allowing you to focus on relevant portions of code (e.g. we don't normally care *how* the `.upper()` method works, but if we do, we could look at the code). They help reduce repeated blocks of code. \n",
    "\n",
    "A function may or may not take input values and may or may not return output values. \n",
    "\n",
    "Functions need to be defined before they can be used. The definition syntax is the following:"
   ]
  },
  {
   "cell_type": "code",
   "execution_count": 34,
   "metadata": {},
   "outputs": [
    {
     "name": "stdout",
     "output_type": "stream",
     "text": [
      "Hello there!\n"
     ]
    }
   ],
   "source": [
    "def sayHello():\n",
    "    print (\"Hello there!\")\n",
    "    \n",
    "sayHello()"
   ]
  },
  {
   "cell_type": "code",
   "execution_count": 35,
   "metadata": {},
   "outputs": [
    {
     "name": "stdout",
     "output_type": "stream",
     "text": [
      "#0 Kasey Hill\n"
     ]
    }
   ],
   "source": [
    "def player(name, number): # use some arguments\n",
    "    print (\"#\" + str(number), name) # cast number to a string when concatenating\n",
    "    \n",
    "player(\"Kasey Hill\", 0)"
   ]
  },
  {
   "cell_type": "markdown",
   "metadata": {},
   "source": [
    "Functions can have optional arguments if a default value is provided in the function signature"
   ]
  },
  {
   "cell_type": "code",
   "execution_count": 36,
   "metadata": {},
   "outputs": [
    {
     "name": "stdout",
     "output_type": "stream",
     "text": [
      "#0 Kasey Hill Florida\n"
     ]
    }
   ],
   "source": [
    "def player(name, number, team = 'Florida'): # optional team argument\n",
    "    print (\"#\" + str(number), name, team)\n",
    "    \n",
    "player(\"Kasey Hill\", 0) # no team argument supplied"
   ]
  },
  {
   "cell_type": "code",
   "execution_count": 37,
   "metadata": {},
   "outputs": [
    {
     "name": "stdout",
     "output_type": "stream",
     "text": [
      "#2 Aaron Harrison Kentucky\n"
     ]
    }
   ],
   "source": [
    "player(\"Aaron Harrison\", 2, \"Kentucky\") # supplying all three arguments"
   ]
  },
  {
   "cell_type": "markdown",
   "metadata": {},
   "source": [
    "Python functions can be called using named arguments, instead of positional"
   ]
  },
  {
   "cell_type": "code",
   "execution_count": 38,
   "metadata": {},
   "outputs": [
    {
     "name": "stdout",
     "output_type": "stream",
     "text": [
      "#23 Chris Walker Florida\n"
     ]
    }
   ],
   "source": [
    "player(number = 23, name = 'Chris Walker')"
   ]
  },
  {
   "cell_type": "markdown",
   "metadata": {},
   "source": [
    "### return\n",
    "In Python functions, an arbitrary number of values can be returned"
   ]
  },
  {
   "cell_type": "code",
   "execution_count": 39,
   "metadata": {},
   "outputs": [
    {
     "name": "stdout",
     "output_type": "stream",
     "text": [
      "3\n"
     ]
    }
   ],
   "source": [
    "def sum(x,y):\n",
    "    return x + y # return a single value\n",
    "\n",
    "print(sum(1,2))"
   ]
  },
  {
   "cell_type": "markdown",
   "metadata": {},
   "source": [
    "### Exercise 5\n",
    "\n",
    "Write a function that takes a number of years and calculates and prints how many days, hours, minutes and seconds that corresponds to and returns the nubmer of seconds."
   ]
  },
  {
   "cell_type": "code",
   "execution_count": null,
   "metadata": {},
   "outputs": [],
   "source": []
  },
  {
   "cell_type": "code",
   "execution_count": null,
   "metadata": {},
   "outputs": [],
   "source": [
    "# Uncomment and run the line below for a solution\n",
    "#%load snippets/Ex_05.yearConvert_function.py"
   ]
  },
  {
   "cell_type": "markdown",
   "metadata": {},
   "source": [
    "# Data Science Tutorial\n",
    "\n",
    "<div class=\"alert alert-block alert-info\">\n",
    "<b>Note:</b> We will return to look more at Pandas later, but this tutorial is a good introduction.</div>\n",
    "\n",
    "Now that we've covered some Python basics, we will begin a tutorial going through many tasks a data scientist may perform.  We will obtain real world data and go through the process of auditing, analyzing, visualing, and building classifiers from the data.\n",
    "\n",
    "We will use a database of selected professor salaries downloaded from a set of data made available by Vincent Arel-Bundock called [Rdatasets](https://vincentarelbundock.github.io/Rdatasets/). The specific file can be downloaded using this link: \n",
    "https://vincentarelbundock.github.io/Rdatasets/csv/carData/Salaries.csv\n",
    "\n",
    "## Obtaining the Data\n",
    "\n",
    "[`Pandas`](https://pandas.pydata.org/) is a powerful module for tabular data--much of the data we deal with!\n",
    "\n",
    "Using the `Pandas` library we can easily import data from a given link or from a file on our computer (must know syntax for filepath). In this case we will give it a link.\n",
    "\n",
    "In the code below, note that it is common to use aliases when importing modules to provide shorter names to reference them. In this case, Pandas is normally imported as `pd`. You could call it whatever you want, but it is best to stick with convention."
   ]
  },
  {
   "cell_type": "code",
   "execution_count": 4,
   "metadata": {},
   "outputs": [
    {
     "data": {
      "text/html": [
       "<div>\n",
       "<style scoped>\n",
       "    .dataframe tbody tr th:only-of-type {\n",
       "        vertical-align: middle;\n",
       "    }\n",
       "\n",
       "    .dataframe tbody tr th {\n",
       "        vertical-align: top;\n",
       "    }\n",
       "\n",
       "    .dataframe thead th {\n",
       "        text-align: right;\n",
       "    }\n",
       "</style>\n",
       "<table border=\"1\" class=\"dataframe\">\n",
       "  <thead>\n",
       "    <tr style=\"text-align: right;\">\n",
       "      <th></th>\n",
       "      <th>Unnamed: 0</th>\n",
       "      <th>rank</th>\n",
       "      <th>discipline</th>\n",
       "      <th>yrs.since.phd</th>\n",
       "      <th>yrs.service</th>\n",
       "      <th>sex</th>\n",
       "      <th>salary</th>\n",
       "    </tr>\n",
       "  </thead>\n",
       "  <tbody>\n",
       "    <tr>\n",
       "      <th>0</th>\n",
       "      <td>1</td>\n",
       "      <td>Prof</td>\n",
       "      <td>B</td>\n",
       "      <td>19</td>\n",
       "      <td>18</td>\n",
       "      <td>Male</td>\n",
       "      <td>139750</td>\n",
       "    </tr>\n",
       "    <tr>\n",
       "      <th>1</th>\n",
       "      <td>2</td>\n",
       "      <td>Prof</td>\n",
       "      <td>B</td>\n",
       "      <td>20</td>\n",
       "      <td>16</td>\n",
       "      <td>Male</td>\n",
       "      <td>173200</td>\n",
       "    </tr>\n",
       "    <tr>\n",
       "      <th>2</th>\n",
       "      <td>3</td>\n",
       "      <td>AsstProf</td>\n",
       "      <td>B</td>\n",
       "      <td>4</td>\n",
       "      <td>3</td>\n",
       "      <td>Male</td>\n",
       "      <td>79750</td>\n",
       "    </tr>\n",
       "    <tr>\n",
       "      <th>3</th>\n",
       "      <td>4</td>\n",
       "      <td>Prof</td>\n",
       "      <td>B</td>\n",
       "      <td>45</td>\n",
       "      <td>39</td>\n",
       "      <td>Male</td>\n",
       "      <td>115000</td>\n",
       "    </tr>\n",
       "    <tr>\n",
       "      <th>4</th>\n",
       "      <td>5</td>\n",
       "      <td>Prof</td>\n",
       "      <td>B</td>\n",
       "      <td>40</td>\n",
       "      <td>41</td>\n",
       "      <td>Male</td>\n",
       "      <td>141500</td>\n",
       "    </tr>\n",
       "  </tbody>\n",
       "</table>\n",
       "</div>"
      ],
      "text/plain": [
       "   Unnamed: 0      rank discipline  yrs.since.phd  yrs.service   sex  salary\n",
       "0           1      Prof          B             19           18  Male  139750\n",
       "1           2      Prof          B             20           16  Male  173200\n",
       "2           3  AsstProf          B              4            3  Male   79750\n",
       "3           4      Prof          B             45           39  Male  115000\n",
       "4           5      Prof          B             40           41  Male  141500"
      ]
     },
     "execution_count": 4,
     "metadata": {},
     "output_type": "execute_result"
    }
   ],
   "source": [
    "import pandas as pd # import the module and alias it as pd\n",
    "\n",
    "salary_data = pd.read_csv('https://vincentarelbundock.github.io/Rdatasets/csv/carData/Salaries.csv')\n",
    "salary_data.head() # show the first few rows of the data"
   ]
  },
  {
   "cell_type": "markdown",
   "metadata": {},
   "source": [
    "Lets take a look at some simple statistics for the **yrs.since.phd** column"
   ]
  },
  {
   "cell_type": "code",
   "execution_count": 2,
   "metadata": {},
   "outputs": [
    {
     "data": {
      "text/plain": [
       "count    397.000000\n",
       "mean      22.314861\n",
       "std       12.887003\n",
       "min        1.000000\n",
       "25%       12.000000\n",
       "50%       21.000000\n",
       "75%       32.000000\n",
       "max       56.000000\n",
       "Name: yrs.since.phd, dtype: float64"
      ]
     },
     "execution_count": 2,
     "metadata": {},
     "output_type": "execute_result"
    }
   ],
   "source": [
    "salary_data[\"yrs.since.phd\"].describe()"
   ]
  },
  {
   "cell_type": "markdown",
   "metadata": {},
   "source": [
    "<code>salary_data.mean().round()</code> will take the mean of each column (this computation ignores the currently present `nan` values (not a number)), then round, and return a dataframe indexed by the columns of the original dataframe.\n",
    "\n",
    "This function can be used to replace all missing values with the mean of each column. In this tutorial however, we will not use this method, because the large number of missing values would greatly skew our standard deviations."
   ]
  },
  {
   "cell_type": "code",
   "execution_count": 3,
   "metadata": {},
   "outputs": [
    {
     "data": {
      "text/plain": [
       "Unnamed: 0          199.0\n",
       "yrs.since.phd        22.0\n",
       "yrs.service          18.0\n",
       "salary           113706.0\n",
       "dtype: float64"
      ]
     },
     "execution_count": 3,
     "metadata": {},
     "output_type": "execute_result"
    }
   ],
   "source": [
    "salary_data.mean().round()"
   ]
  },
  {
   "cell_type": "markdown",
   "metadata": {},
   "source": [
    "#### Check Unique Values"
   ]
  },
  {
   "cell_type": "code",
   "execution_count": 4,
   "metadata": {},
   "outputs": [
    {
     "data": {
      "text/plain": [
       "array([139750, 173200,  79750, 115000, 141500,  97000, 175000, 147765,\n",
       "       119250, 129000, 119800,  79800,  77700,  78000, 104800, 117150,\n",
       "       101000, 103450, 124750, 137000,  89565, 102580,  93904, 113068,\n",
       "        74830, 106294, 134885,  82379,  77000, 118223, 132261,  79916,\n",
       "       117256,  80225, 155750,  86373, 125196, 100938, 146500,  93418,\n",
       "       101299, 231545,  94384, 114778,  98193, 151768, 140096,  70768,\n",
       "       126621, 108875,  74692, 106639, 103760,  83900, 117704,  90215,\n",
       "       100135,  75044,  90304,  75243, 109785, 103613,  68404, 100522,\n",
       "        99418, 111512,  91412, 126320, 146856, 100131,  92391, 113398,\n",
       "        73266, 150480, 193000,  86100,  84240, 150743, 135585, 144640,\n",
       "        88825, 122960, 132825, 152708,  88400, 172272, 107008,  97032,\n",
       "       105128, 105631, 166024, 123683,  84000,  95611, 129676, 102235,\n",
       "       106689, 133217, 126933, 153303, 127512,  83850, 113543,  82099,\n",
       "        82600,  81500, 131205, 112429,  82100,  72500, 104279, 105000,\n",
       "       120806, 148500, 117515,  73500, 115313, 124309,  97262,  62884,\n",
       "        96614,  78162, 155500, 113278,  73000,  83001,  76840,  77500,\n",
       "       168635, 136000, 108262, 105668,  73877, 152664, 100102, 106608,\n",
       "        89942, 112696, 119015,  92000, 156938, 144651,  95079, 128148,\n",
       "       111168, 103994, 118971, 113341,  88000,  95408, 137167,  89516,\n",
       "       176500,  98510,  88795, 105890, 167284, 130664, 101210, 181257,\n",
       "        91227, 151575,  93164, 134185, 111751,  95436, 100944, 147349,\n",
       "       142467, 141136, 100000, 150000, 134000, 103750, 107500, 106300,\n",
       "       153750, 180000, 133700, 122100,  86250,  90000, 113600,  92700,\n",
       "       189409, 114500, 119700, 160400, 152500, 165000,  96545, 162200,\n",
       "       120000,  91300, 163200,  91000, 111350, 128400, 126200, 118700,\n",
       "       145350, 146000, 105350, 109650, 119500, 170000, 145200, 107150,\n",
       "       129600,  87800, 122400,  63900,  70000,  88175, 133900,  73300,\n",
       "       148750, 117555,  69700,  81700, 114000,  63100,  77202,  96200,\n",
       "        69200, 122875, 102600, 108200,  84273,  90450,  91100, 101100,\n",
       "       128800, 204000, 109000, 102000, 132000, 116450,  83000, 140300,\n",
       "        74000,  73800,  92550,  88600, 107550, 121200, 126000,  99000,\n",
       "       134800, 143940, 104350,  89650, 103700, 143250, 194800,  78500,\n",
       "        93000, 107200, 107100, 100600, 136500, 103600,  57800, 155865,\n",
       "        88650,  81800, 115800,  85000, 150500, 174500, 168500, 183800,\n",
       "       107300,  97150, 126300, 148800,  72300,  70700, 127100, 170500,\n",
       "       105260, 144050,  74500, 122500, 166800,  92050, 108100,  94350,\n",
       "       100351, 146800,  84716,  71065,  67559, 134550, 135027, 104428,\n",
       "        95642, 126431, 161101, 162221,  84500, 124714, 151650,  99247,\n",
       "       134778, 192253, 116518, 105450, 145098, 104542, 151445,  98053,\n",
       "       145000, 128464, 137317, 106231, 124312, 114596, 162150, 150376,\n",
       "       107986, 142023, 128250,  80139, 144309, 186960,  93519, 142500,\n",
       "       138000,  83600, 145028,  88709, 107309, 109954,  78785, 121946,\n",
       "       109646, 138771,  81285, 205500, 101036, 115435, 108413, 131950,\n",
       "       134690,  78182, 110515, 109707, 136660, 103275, 103649,  74856,\n",
       "        77081, 150680, 104121,  75996, 172505,  86895, 125192, 114330,\n",
       "       139219, 109305, 119450, 186023, 166605, 151292, 103106, 150564,\n",
       "       101738,  95329,  81035])"
      ]
     },
     "execution_count": 4,
     "metadata": {},
     "output_type": "execute_result"
    }
   ],
   "source": [
    "salary_data[\"salary\"].unique()"
   ]
  },
  {
   "cell_type": "markdown",
   "metadata": {},
   "source": [
    "Structurally, Pandas dataframes are a collection of Series objects sharing a common index.  In general, the Series object and Dataframe object share a large number of functions with some behavioral differences.  In other words, whatever computation you can do on a single column can generally be applied to the entire dataframe.\n",
    "\n",
    "Now we can use the dataframe version of <code>describe</code> to get an overview of all of our data"
   ]
  },
  {
   "cell_type": "code",
   "execution_count": 5,
   "metadata": {
    "scrolled": true
   },
   "outputs": [
    {
     "data": {
      "text/html": [
       "<div>\n",
       "<style scoped>\n",
       "    .dataframe tbody tr th:only-of-type {\n",
       "        vertical-align: middle;\n",
       "    }\n",
       "\n",
       "    .dataframe tbody tr th {\n",
       "        vertical-align: top;\n",
       "    }\n",
       "\n",
       "    .dataframe thead th {\n",
       "        text-align: right;\n",
       "    }\n",
       "</style>\n",
       "<table border=\"1\" class=\"dataframe\">\n",
       "  <thead>\n",
       "    <tr style=\"text-align: right;\">\n",
       "      <th></th>\n",
       "      <th>Unnamed: 0</th>\n",
       "      <th>yrs.since.phd</th>\n",
       "      <th>yrs.service</th>\n",
       "      <th>salary</th>\n",
       "    </tr>\n",
       "  </thead>\n",
       "  <tbody>\n",
       "    <tr>\n",
       "      <th>count</th>\n",
       "      <td>397.000000</td>\n",
       "      <td>397.000000</td>\n",
       "      <td>397.000000</td>\n",
       "      <td>397.000000</td>\n",
       "    </tr>\n",
       "    <tr>\n",
       "      <th>mean</th>\n",
       "      <td>199.000000</td>\n",
       "      <td>22.314861</td>\n",
       "      <td>17.614610</td>\n",
       "      <td>113706.458438</td>\n",
       "    </tr>\n",
       "    <tr>\n",
       "      <th>std</th>\n",
       "      <td>114.748275</td>\n",
       "      <td>12.887003</td>\n",
       "      <td>13.006024</td>\n",
       "      <td>30289.038695</td>\n",
       "    </tr>\n",
       "    <tr>\n",
       "      <th>min</th>\n",
       "      <td>1.000000</td>\n",
       "      <td>1.000000</td>\n",
       "      <td>0.000000</td>\n",
       "      <td>57800.000000</td>\n",
       "    </tr>\n",
       "    <tr>\n",
       "      <th>25%</th>\n",
       "      <td>100.000000</td>\n",
       "      <td>12.000000</td>\n",
       "      <td>7.000000</td>\n",
       "      <td>91000.000000</td>\n",
       "    </tr>\n",
       "    <tr>\n",
       "      <th>50%</th>\n",
       "      <td>199.000000</td>\n",
       "      <td>21.000000</td>\n",
       "      <td>16.000000</td>\n",
       "      <td>107300.000000</td>\n",
       "    </tr>\n",
       "    <tr>\n",
       "      <th>75%</th>\n",
       "      <td>298.000000</td>\n",
       "      <td>32.000000</td>\n",
       "      <td>27.000000</td>\n",
       "      <td>134185.000000</td>\n",
       "    </tr>\n",
       "    <tr>\n",
       "      <th>max</th>\n",
       "      <td>397.000000</td>\n",
       "      <td>56.000000</td>\n",
       "      <td>60.000000</td>\n",
       "      <td>231545.000000</td>\n",
       "    </tr>\n",
       "  </tbody>\n",
       "</table>\n",
       "</div>"
      ],
      "text/plain": [
       "       Unnamed: 0  yrs.since.phd  yrs.service         salary\n",
       "count  397.000000     397.000000   397.000000     397.000000\n",
       "mean   199.000000      22.314861    17.614610  113706.458438\n",
       "std    114.748275      12.887003    13.006024   30289.038695\n",
       "min      1.000000       1.000000     0.000000   57800.000000\n",
       "25%    100.000000      12.000000     7.000000   91000.000000\n",
       "50%    199.000000      21.000000    16.000000  107300.000000\n",
       "75%    298.000000      32.000000    27.000000  134185.000000\n",
       "max    397.000000      56.000000    60.000000  231545.000000"
      ]
     },
     "execution_count": 5,
     "metadata": {},
     "output_type": "execute_result"
    }
   ],
   "source": [
    "salary_data.describe()"
   ]
  },
  {
   "cell_type": "markdown",
   "metadata": {},
   "source": [
    "## Visualizing the Data\n",
    "Another important tool in the data scientist's toolbox is the ability to create visualizations from data.  Visualizing data is often the most logical place to start getting a deeper intuition of the data.  This intuition will shape and drive your analysis.\n",
    "\n",
    "Even more important than visualizing data for your own personal benefit, it is often the job of the data scientist to use the data to tell a story.  Creating illustrative visuals that succinctly convey an idea are the best way to tell that story, especially to stakeholders with less technical skillsets.\n",
    "\n",
    "We'll be using the plotting library matplotlib, which stands for mathematical plotting library. It is the most widely used plotting library, and has a few other packages built on top of it (like a library called seaborn) to make your plots even more beautiful and easy to use. \n",
    "\n",
    "We'll start by doing a bit of setup."
   ]
  },
  {
   "cell_type": "code",
   "execution_count": 6,
   "metadata": {},
   "outputs": [],
   "source": [
    "#importing matplotlib library with an alias as well as the seaborn library\n",
    "import matplotlib.pyplot as plt\n",
    "import seaborn as sns\n",
    "\n",
    "sns.set(style = 'darkgrid', color_codes = True)   # my personal style preferences\n",
    "\n",
    "# hack to make seaborn plots bigger on jupyter notebooks\n",
    "def setPlt():\n",
    "    f, ax = plt.subplots(figsize = (13,9))\n",
    "    sns.despine(f, left = True, bottom = True)"
   ]
  },
  {
   "cell_type": "markdown",
   "metadata": {},
   "source": [
    "Let's go ahead and start with a histogram of the years since the professors got their phd using the displot( ) function.  "
   ]
  },
  {
   "cell_type": "code",
   "execution_count": 7,
   "metadata": {},
   "outputs": [
    {
     "data": {
      "image/png": "[encoded data removed]",
      "text/plain": [
       "<Figure size 936x648 with 1 Axes>"
      ]
     },
     "metadata": {},
     "output_type": "display_data"
    }
   ],
   "source": [
    "#create our first plot, a histogram of salaries\n",
    "\n",
    "setPlt()\n",
    "hist = sns.distplot(salary_data['yrs.since.phd'])"
   ]
  },
  {
   "cell_type": "markdown",
   "metadata": {},
   "source": [
    "Visualization is all about asking questions of the data. One thing that we could be curious about is how the pay changes as people have had their phd for longer. We can make a scatterplot of exactly that using the scatter function. "
   ]
  },
  {
   "cell_type": "code",
   "execution_count": 8,
   "metadata": {},
   "outputs": [
    {
     "data": {
      "image/png": "[encoded data removed]",
      "text/plain": [
       "<Figure size 936x648 with 1 Axes>"
      ]
     },
     "metadata": {},
     "output_type": "display_data"
    }
   ],
   "source": [
    "setPlt()\n",
    "scatplt = sns.scatterplot(x = 'yrs.since.phd', y = 'salary', data = salary_data)"
   ]
  },
  {
   "cell_type": "markdown",
   "metadata": {},
   "source": [
    "If the above does not work please follow these steps:\n",
    "\n",
    "MAC\n",
    "\n",
    "-Open terminal and type <code>conda remove seaborn</code> and press Enter. \n",
    "    \n",
    "-Then type <code>conda install seaborn==0.9.0</code>\n",
    "\n",
    "    \n",
    "Windows\n",
    "\n",
    "-Open Anaconda Prompt (Press Windows button and type \"Anaconda Prompt\")\n",
    "    \n",
    "-Type <code>conda remove seaborn</code>\n",
    "    \n",
    "-Then type <code>conda install seaborn==0.9.0</code>\n",
    "\n",
    "You may need to restart anaconda "
   ]
  },
  {
   "cell_type": "markdown",
   "metadata": {},
   "source": [
    "Seems like there are some people who have had their Ph.D for a while but still dont get paid a lot. Does the same hold true with how long they've worked? What about their position?"
   ]
  },
  {
   "cell_type": "code",
   "execution_count": 9,
   "metadata": {},
   "outputs": [
    {
     "data": {
      "text/plain": [
       "<AxesSubplot:xlabel='yrs.service', ylabel='salary'>"
      ]
     },
     "execution_count": 9,
     "metadata": {},
     "output_type": "execute_result"
    },
    {
     "data": {
      "image/png": "[encoded data removed]",
      "text/plain": [
       "<Figure size 936x648 with 1 Axes>"
      ]
     },
     "metadata": {},
     "output_type": "display_data"
    }
   ],
   "source": [
    "setPlt()\n",
    "sns.scatterplot(x = 'yrs.service', y = 'salary' ,data = salary_data)"
   ]
  },
  {
   "cell_type": "markdown",
   "metadata": {},
   "source": [
    "We can also color our graph fairly easily, let's compare the years since Phd to the Years of employement to see the distribution of salary."
   ]
  },
  {
   "cell_type": "code",
   "execution_count": 10,
   "metadata": {},
   "outputs": [
    {
     "data": {
      "text/plain": [
       "<AxesSubplot:xlabel='yrs.since.phd', ylabel='salary'>"
      ]
     },
     "execution_count": 10,
     "metadata": {},
     "output_type": "execute_result"
    },
    {
     "data": {
      "image/png": "[encoded data removed]",
      "text/plain": [
       "<Figure size 936x648 with 1 Axes>"
      ]
     },
     "metadata": {},
     "output_type": "display_data"
    }
   ],
   "source": [
    "#colored scatter plot\n",
    "setPlt()\n",
    "sns.scatterplot(x = 'yrs.since.phd', y = 'salary', hue = 'rank', data = salary_data)"
   ]
  },
  {
   "cell_type": "markdown",
   "metadata": {},
   "source": [
    "## Summary\n",
    "\n",
    "So far in our three-part Python series (check out DSI's [Python 1](https://github.com/dsiufl/Python-Workshops/tree/master/Python1) and [Python 2](https://github.com/dsiufl/Python-Workshops/tree/master/Python2) modules for more), we've learned about variables, data structures, functions, and graphing. While we have introduced these topics in the context of data science with Python, they are central to programming in any language and in any context.\n",
    "\n",
    "\n",
    "### Data Science in a Nutshell\n",
    "We believe that data science has the potential to revolutionalize the way we understand our world. Anyone can learn the tools of Data Science in order to ensure success. Our goal is to give you these tools and create a community of data scientists here at UF.\n",
    "\n",
    "We hope you enjoed the workshop and look forward to seeing you soon!\n",
    "\n",
    "#### Visit our website if you want to get involved with DSI:  http://www.dsiufl.org"
   ]
  },
  {
   "cell_type": "markdown",
   "metadata": {},
   "source": [
    "# Thank You !"
   ]
  }
 ],
 "metadata": {
  "kernelspec": {
   "display_name": "Python 3.8 (full)",
   "language": "python",
   "name": "python3-3.8-ufrc"
  },
  "language_info": {
   "codemirror_mode": {
    "name": "ipython",
    "version": 3
   },
   "file_extension": ".py",
   "mimetype": "text/x-python",
   "name": "python",
   "nbconvert_exporter": "python",
   "pygments_lexer": "ipython3",
   "version": "3.8.5"
  }
 },
 "nbformat": 4,
 "nbformat_minor": 4
}
