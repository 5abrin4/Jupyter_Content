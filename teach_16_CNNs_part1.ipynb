{
 "cells": [
  {
   "cell_type": "markdown",
   "id": "aad6ab19-5164-4969-b6eb-11531c45abb5",
   "metadata": {},
   "source": [
    "# Introduction to Convolutional Neural Networks, part 1\n",
    "\n",
    "We will start looking at image classification, the task of training a model to classify an image into one of a pre-set number of categories. The image below shows common computer vision tasks and is from [Shivani Kolungade](https://medium.com/@kolungade.s/object-detection-image-classification-and-semantic-segmentation-using-aws-sagemaker-e1f768c8f57d)\n",
    "\n",
    "![Image classification, object detection and segmentation by Shivani Kolungade](images/classification_detection_segmentation.png)\n",
    "\n",
    "\n",
    "## Image classification of an American Sign Language Dataset\n",
    "\n",
    "For this exercise, we will explore image classification, starting with a \"simple\" neural network and then adding convolutional layers, data augmentation and more to build better models.\n",
    "\n",
    "This notebook is inspired by the Nvidia [Fundementatal of Deep Learning](https://www.nvidia.com/en-us/training/instructor-led-workshops/fundamentals-of-deep-learning/) (instructor led)/ [Getting Started with Deep Learning](https://courses.nvidia.com/courses/course-v1:DLI+S-FX-01+V1/about) (online, asynchronous) exercises. \n",
    "\n",
    "## American Sign Language Dataset\n",
    "\n",
    "The American Sign Language [manual alphabet](https://en.wikipedia.org/wiki/American_manual_alphabet) has signs for each letter. We will skip J and Z because those signs require motion. That should leave 24 classes...but for some reason, there are 25...\n",
    "\n",
    "The dataset we'll use is from [Kaggle](https://www.kaggle.com/arjaiswal/sign-mnist-using-cnn/data).\n",
    "\n",
    "We'll start with this dataset because it helps with the transition from the tabular data we've been working with to image data. Images are a grid of pixels, where each pixel has a brightness. For greyscale images, there is one grid, for color images, there are typically three grids, for the red, green and blue colors (RGB), often called color channels.\n",
    "\n",
    "Let's start by loading the data and examining some images.\n",
    "\n",
    "## Load the data and examine some images"
   ]
  },
  {
   "cell_type": "code",
   "execution_count": 1,
   "id": "e07f7283-df18-44a7-a7c8-d302ea4bf742",
   "metadata": {},
   "outputs": [],
   "source": [
    "import numpy as np\n",
    "import pandas as pd\n",
    "import matplotlib.pyplot as plt\n",
    "%matplotlib inline\n",
    "from PIL import Image\n",
    "import matplotlib.image as mpimg\n",
    "\n",
    "import tensorflow as tf\n",
    "from tensorflow import keras\n",
    "from tensorflow.keras.preprocessing import image_dataset_from_directory\n",
    "from tensorflow.keras.preprocessing.image import ImageDataGenerator\n",
    "from tensorflow.keras.preprocessing import image as image_utils\n",
    "\n",
    "from tensorflow.keras.models import Sequential\n",
    "from tensorflow.keras import layers\n",
    "from tensorflow.keras.layers import Dense\n",
    "\n",
    "import helpers_cnns # Some helper functions for the CNN notebooks."
   ]
  },
  {
   "cell_type": "code",
   "execution_count": 2,
   "id": "0d970832-2721-4a1d-a7c5-38463c740210",
   "metadata": {},
   "outputs": [],
   "source": [
    "sign_train = pd.read_csv(\"data/sign_mnist/sign_mnist_train.csv\")\n",
    "sign_test = pd.read_csv(\"data/sign_mnist/sign_mnist_test.csv\")"
   ]
  },
  {
   "cell_type": "code",
   "execution_count": 35,
   "id": "c611958a-b1c8-4985-a700-e6796e9e72f7",
   "metadata": {},
   "outputs": [
    {
     "data": {
      "text/html": [
       "<div>\n",
       "<style scoped>\n",
       "    .dataframe tbody tr th:only-of-type {\n",
       "        vertical-align: middle;\n",
       "    }\n",
       "\n",
       "    .dataframe tbody tr th {\n",
       "        vertical-align: top;\n",
       "    }\n",
       "\n",
       "    .dataframe thead th {\n",
       "        text-align: right;\n",
       "    }\n",
       "</style>\n",
       "<table border=\"1\" class=\"dataframe\">\n",
       "  <thead>\n",
       "    <tr style=\"text-align: right;\">\n",
       "      <th></th>\n",
       "      <th>label</th>\n",
       "      <th>pixel1</th>\n",
       "      <th>pixel2</th>\n",
       "      <th>pixel3</th>\n",
       "      <th>pixel4</th>\n",
       "      <th>pixel5</th>\n",
       "      <th>pixel6</th>\n",
       "      <th>pixel7</th>\n",
       "      <th>pixel8</th>\n",
       "      <th>pixel9</th>\n",
       "      <th>...</th>\n",
       "      <th>pixel775</th>\n",
       "      <th>pixel776</th>\n",
       "      <th>pixel777</th>\n",
       "      <th>pixel778</th>\n",
       "      <th>pixel779</th>\n",
       "      <th>pixel780</th>\n",
       "      <th>pixel781</th>\n",
       "      <th>pixel782</th>\n",
       "      <th>pixel783</th>\n",
       "      <th>pixel784</th>\n",
       "    </tr>\n",
       "  </thead>\n",
       "  <tbody>\n",
       "    <tr>\n",
       "      <th>0</th>\n",
       "      <td>3</td>\n",
       "      <td>107</td>\n",
       "      <td>118</td>\n",
       "      <td>127</td>\n",
       "      <td>134</td>\n",
       "      <td>139</td>\n",
       "      <td>143</td>\n",
       "      <td>146</td>\n",
       "      <td>150</td>\n",
       "      <td>153</td>\n",
       "      <td>...</td>\n",
       "      <td>207</td>\n",
       "      <td>207</td>\n",
       "      <td>207</td>\n",
       "      <td>207</td>\n",
       "      <td>206</td>\n",
       "      <td>206</td>\n",
       "      <td>206</td>\n",
       "      <td>204</td>\n",
       "      <td>203</td>\n",
       "      <td>202</td>\n",
       "    </tr>\n",
       "    <tr>\n",
       "      <th>1</th>\n",
       "      <td>6</td>\n",
       "      <td>155</td>\n",
       "      <td>157</td>\n",
       "      <td>156</td>\n",
       "      <td>156</td>\n",
       "      <td>156</td>\n",
       "      <td>157</td>\n",
       "      <td>156</td>\n",
       "      <td>158</td>\n",
       "      <td>158</td>\n",
       "      <td>...</td>\n",
       "      <td>69</td>\n",
       "      <td>149</td>\n",
       "      <td>128</td>\n",
       "      <td>87</td>\n",
       "      <td>94</td>\n",
       "      <td>163</td>\n",
       "      <td>175</td>\n",
       "      <td>103</td>\n",
       "      <td>135</td>\n",
       "      <td>149</td>\n",
       "    </tr>\n",
       "    <tr>\n",
       "      <th>2</th>\n",
       "      <td>2</td>\n",
       "      <td>187</td>\n",
       "      <td>188</td>\n",
       "      <td>188</td>\n",
       "      <td>187</td>\n",
       "      <td>187</td>\n",
       "      <td>186</td>\n",
       "      <td>187</td>\n",
       "      <td>188</td>\n",
       "      <td>187</td>\n",
       "      <td>...</td>\n",
       "      <td>202</td>\n",
       "      <td>201</td>\n",
       "      <td>200</td>\n",
       "      <td>199</td>\n",
       "      <td>198</td>\n",
       "      <td>199</td>\n",
       "      <td>198</td>\n",
       "      <td>195</td>\n",
       "      <td>194</td>\n",
       "      <td>195</td>\n",
       "    </tr>\n",
       "    <tr>\n",
       "      <th>3</th>\n",
       "      <td>2</td>\n",
       "      <td>211</td>\n",
       "      <td>211</td>\n",
       "      <td>212</td>\n",
       "      <td>212</td>\n",
       "      <td>211</td>\n",
       "      <td>210</td>\n",
       "      <td>211</td>\n",
       "      <td>210</td>\n",
       "      <td>210</td>\n",
       "      <td>...</td>\n",
       "      <td>235</td>\n",
       "      <td>234</td>\n",
       "      <td>233</td>\n",
       "      <td>231</td>\n",
       "      <td>230</td>\n",
       "      <td>226</td>\n",
       "      <td>225</td>\n",
       "      <td>222</td>\n",
       "      <td>229</td>\n",
       "      <td>163</td>\n",
       "    </tr>\n",
       "    <tr>\n",
       "      <th>4</th>\n",
       "      <td>13</td>\n",
       "      <td>164</td>\n",
       "      <td>167</td>\n",
       "      <td>170</td>\n",
       "      <td>172</td>\n",
       "      <td>176</td>\n",
       "      <td>179</td>\n",
       "      <td>180</td>\n",
       "      <td>184</td>\n",
       "      <td>185</td>\n",
       "      <td>...</td>\n",
       "      <td>92</td>\n",
       "      <td>105</td>\n",
       "      <td>105</td>\n",
       "      <td>108</td>\n",
       "      <td>133</td>\n",
       "      <td>163</td>\n",
       "      <td>157</td>\n",
       "      <td>163</td>\n",
       "      <td>164</td>\n",
       "      <td>179</td>\n",
       "    </tr>\n",
       "  </tbody>\n",
       "</table>\n",
       "<p>5 rows × 785 columns</p>\n",
       "</div>"
      ],
      "text/plain": [
       "   label  pixel1  pixel2  pixel3  pixel4  pixel5  pixel6  pixel7  pixel8  \\\n",
       "0      3     107     118     127     134     139     143     146     150   \n",
       "1      6     155     157     156     156     156     157     156     158   \n",
       "2      2     187     188     188     187     187     186     187     188   \n",
       "3      2     211     211     212     212     211     210     211     210   \n",
       "4     13     164     167     170     172     176     179     180     184   \n",
       "\n",
       "   pixel9  ...  pixel775  pixel776  pixel777  pixel778  pixel779  pixel780  \\\n",
       "0     153  ...       207       207       207       207       206       206   \n",
       "1     158  ...        69       149       128        87        94       163   \n",
       "2     187  ...       202       201       200       199       198       199   \n",
       "3     210  ...       235       234       233       231       230       226   \n",
       "4     185  ...        92       105       105       108       133       163   \n",
       "\n",
       "   pixel781  pixel782  pixel783  pixel784  \n",
       "0       206       204       203       202  \n",
       "1       175       103       135       149  \n",
       "2       198       195       194       195  \n",
       "3       225       222       229       163  \n",
       "4       157       163       164       179  \n",
       "\n",
       "[5 rows x 785 columns]"
      ]
     },
     "execution_count": 35,
     "metadata": {},
     "output_type": "execute_result"
    }
   ],
   "source": [
    "sign_train.head()"
   ]
  },
  {
   "cell_type": "code",
   "execution_count": 36,
   "id": "ec5299a3-8f71-41db-95f0-b887f2332cd4",
   "metadata": {},
   "outputs": [
    {
     "data": {
      "text/plain": [
       "(7172, 784)"
      ]
     },
     "execution_count": 36,
     "metadata": {},
     "output_type": "execute_result"
    }
   ],
   "source": [
    "y_train = sign_train['label']\n",
    "X_train = sign_train.drop(columns='label').values\n",
    "\n",
    "y_test = sign_test['label']\n",
    "X_test = sign_test.drop(columns='label').values\n",
    "\n",
    "X_test.shape"
   ]
  },
  {
   "cell_type": "code",
   "execution_count": 37,
   "id": "15551a19-09a4-43f9-98ae-55d1337e2516",
   "metadata": {},
   "outputs": [
    {
     "data": {
      "image/png": "[encoded data removed]",
      "text/plain": [
       "<Figure size 2880x2880 with 20 Axes>"
      ]
     },
     "metadata": {
      "needs_background": "light"
     },
     "output_type": "display_data"
    }
   ],
   "source": [
    "plt.figure(figsize=(40,40))\n",
    "\n",
    "num_images = 20\n",
    "for i in range(num_images):\n",
    "    row = X_train[i]\n",
    "    label = y_train[i]\n",
    "    \n",
    "    image = row.reshape(28,28)  # Note that we reshape the row into a 28X28 pixel image\n",
    "    plt.subplot(1, num_images, i+1)\n",
    "    plt.title(label, fontdict={'fontsize': 30})\n",
    "    plt.axis('off')\n",
    "    plt.imshow(image, cmap='gray')"
   ]
  },
  {
   "cell_type": "markdown",
   "id": "d03dd1da-5bd6-4f04-8124-d8f4e0fb3def",
   "metadata": {},
   "source": [
    "## Normalize the data\n",
    "\n",
    "As we mentioned in previous classes, networks train better with standardized or normalized data. Normalization tends to work best with images, so can look at the min and max of our dataset to get those and divide by the max value"
   ]
  },
  {
   "cell_type": "code",
   "execution_count": 38,
   "id": "5062a132-60e3-401a-9514-63eaf9519027",
   "metadata": {},
   "outputs": [
    {
     "name": "stdout",
     "output_type": "stream",
     "text": [
      "0 255\n"
     ]
    }
   ],
   "source": [
    "print(X_train.min(), X_train.max())"
   ]
  },
  {
   "cell_type": "code",
   "execution_count": 39,
   "id": "905ce62a-c8ea-46d9-8023-b27e18e5aaba",
   "metadata": {},
   "outputs": [],
   "source": [
    "# Normalize our data (get values between 0-1)\n",
    "\n",
    "X_train = X_train/255\n",
    "X_test = X_test/255"
   ]
  },
  {
   "cell_type": "markdown",
   "id": "a634d683-d002-48ea-8ca0-bd2b3def5a53",
   "metadata": {},
   "source": [
    "## Labels to categorical\n",
    "\n",
    "We want out labels to be categorical. As they are now, the labels are 0, 1,...,24 (to be honest, I am not sure why there are 25 classes. Should only be 24...). That would imply label 1 is more similar to label 2 than to label 23 and that label 3 is less than label 4. Converting to categorical labels converts these to named categories, removing the order/associations among the names.  "
   ]
  },
  {
   "cell_type": "code",
   "execution_count": 40,
   "id": "b46986cb-a71f-4f30-85dd-73171afc13ca",
   "metadata": {},
   "outputs": [],
   "source": [
    "# Convert our classes to categorical\n",
    "\n",
    "num_classes = 25 # Not entirely sure what the 25th category is...\n",
    "\n",
    "y_train = keras.utils.to_categorical(y_train, num_classes)\n",
    "y_test = keras.utils.to_categorical(y_test, num_classes)"
   ]
  },
  {
   "cell_type": "markdown",
   "id": "e7b934eb-ed00-4d42-89cb-9deba47e35a2",
   "metadata": {},
   "source": [
    "## Make our model\n",
    "\n",
    "I've kept the code format here as it was in the Nvidia exercie. This is another common method of making a model. So far, I've used the format below to keep things similar to sklearn Pipelines, but I want to expose you to this `model.add` format too. The code in the block below is the same as this:\n",
    "\n",
    "    model = Sequential([\n",
    "        layers.Dense(units = 512, activation='relu', input_shape=(784,))),\n",
    "        layers.Dense(units = 512, activation='relu')),\n",
    "        layers.Dense(units = num_classes, activation='softmax'))\n",
    "        ])"
   ]
  },
  {
   "cell_type": "code",
   "execution_count": 41,
   "id": "c6175207-a26f-4c9e-a1b3-08c37b5322a9",
   "metadata": {},
   "outputs": [],
   "source": [
    "model = Sequential()\n",
    "model.add(Dense(units = 512, activation='relu', input_shape=(784,)))\n",
    "model.add(Dense(units = 512, activation='relu'))\n",
    "model.add(Dense(units = num_classes, activation='softmax'))"
   ]
  },
  {
   "cell_type": "code",
   "execution_count": 42,
   "id": "d76321fd-ffda-47f9-9391-85b73e0e3246",
   "metadata": {},
   "outputs": [
    {
     "name": "stdout",
     "output_type": "stream",
     "text": [
      "Model: \"sequential_1\"\n",
      "_________________________________________________________________\n",
      "Layer (type)                 Output Shape              Param #   \n",
      "=================================================================\n",
      "dense_3 (Dense)              (None, 512)               401920    \n",
      "_________________________________________________________________\n",
      "dense_4 (Dense)              (None, 512)               262656    \n",
      "_________________________________________________________________\n",
      "dense_5 (Dense)              (None, 25)                12825     \n",
      "=================================================================\n",
      "Total params: 677,401\n",
      "Trainable params: 677,401\n",
      "Non-trainable params: 0\n",
      "_________________________________________________________________\n"
     ]
    }
   ],
   "source": [
    "model.summary()"
   ]
  },
  {
   "cell_type": "markdown",
   "id": "e1f64f65-90ed-4182-afe4-26d94a544a37",
   "metadata": {},
   "source": [
    "## Compile and fit our model"
   ]
  },
  {
   "cell_type": "code",
   "execution_count": 28,
   "id": "7740dac1-a3eb-4e44-9703-05df91c24715",
   "metadata": {},
   "outputs": [],
   "source": [
    "model.compile(loss='categorical_crossentropy', metrics=['accuracy'])"
   ]
  },
  {
   "cell_type": "code",
   "execution_count": 29,
   "id": "f5a10ffd-40dd-487e-9dfa-8b9cfa642ecf",
   "metadata": {},
   "outputs": [
    {
     "name": "stderr",
     "output_type": "stream",
     "text": [
      "2022-03-01 11:34:54.846702: I tensorflow/compiler/mlir/mlir_graph_optimization_pass.cc:185] None of the MLIR Optimization Passes are enabled (registered 2)\n"
     ]
    },
    {
     "name": "stdout",
     "output_type": "stream",
     "text": [
      "Epoch 1/20\n",
      " 95/858 [==>...........................] - ETA: 1s - loss: 3.1343 - accuracy: 0.0839"
     ]
    },
    {
     "name": "stderr",
     "output_type": "stream",
     "text": [
      "2022-03-01 11:34:55.960129: I tensorflow/stream_executor/cuda/cuda_blas.cc:1760] TensorFloat-32 will be used for the matrix multiplication. This will only be logged once.\n"
     ]
    },
    {
     "name": "stdout",
     "output_type": "stream",
     "text": [
      "858/858 [==============================] - 3s 2ms/step - loss: 1.9407 - accuracy: 0.3875 - val_loss: 1.2343 - val_accuracy: 0.5756\n",
      "Epoch 2/20\n",
      "858/858 [==============================] - 2s 2ms/step - loss: 0.9387 - accuracy: 0.6845 - val_loss: 1.7020 - val_accuracy: 0.4953\n",
      "Epoch 3/20\n",
      "858/858 [==============================] - 2s 2ms/step - loss: 0.5789 - accuracy: 0.8051 - val_loss: 1.0814 - val_accuracy: 0.6735\n",
      "Epoch 4/20\n",
      "858/858 [==============================] - 3s 3ms/step - loss: 0.3885 - accuracy: 0.8739 - val_loss: 0.9373 - val_accuracy: 0.7552\n",
      "Epoch 5/20\n",
      "858/858 [==============================] - 2s 2ms/step - loss: 0.3009 - accuracy: 0.9120 - val_loss: 0.8825 - val_accuracy: 0.8063\n",
      "Epoch 6/20\n",
      "858/858 [==============================] - 2s 2ms/step - loss: 0.2479 - accuracy: 0.9303 - val_loss: 0.9621 - val_accuracy: 0.8190\n",
      "Epoch 7/20\n",
      "858/858 [==============================] - 2s 2ms/step - loss: 0.2237 - accuracy: 0.9467 - val_loss: 1.2413 - val_accuracy: 0.8024\n",
      "Epoch 8/20\n",
      "858/858 [==============================] - 2s 2ms/step - loss: 0.1945 - accuracy: 0.9517 - val_loss: 1.2515 - val_accuracy: 0.7984\n",
      "Epoch 9/20\n",
      "858/858 [==============================] - 2s 2ms/step - loss: 0.1856 - accuracy: 0.9572 - val_loss: 1.0347 - val_accuracy: 0.8278\n",
      "Epoch 10/20\n",
      "858/858 [==============================] - 2s 2ms/step - loss: 0.1758 - accuracy: 0.9611 - val_loss: 1.1755 - val_accuracy: 0.8182\n",
      "Epoch 11/20\n",
      "858/858 [==============================] - 2s 2ms/step - loss: 0.1740 - accuracy: 0.9643 - val_loss: 1.2155 - val_accuracy: 0.8090\n",
      "Epoch 12/20\n",
      "858/858 [==============================] - 2s 2ms/step - loss: 0.1548 - accuracy: 0.9681 - val_loss: 2.3078 - val_accuracy: 0.7474\n",
      "Epoch 13/20\n",
      "858/858 [==============================] - 2s 2ms/step - loss: 0.1611 - accuracy: 0.9688 - val_loss: 1.2241 - val_accuracy: 0.8388\n",
      "Epoch 14/20\n",
      "858/858 [==============================] - 2s 2ms/step - loss: 0.1511 - accuracy: 0.9689 - val_loss: 1.9532 - val_accuracy: 0.7817\n",
      "Epoch 15/20\n",
      "858/858 [==============================] - 2s 2ms/step - loss: 0.1346 - accuracy: 0.9725 - val_loss: 1.3766 - val_accuracy: 0.8397\n",
      "Epoch 16/20\n",
      "858/858 [==============================] - 2s 2ms/step - loss: 0.1447 - accuracy: 0.9735 - val_loss: 1.4545 - val_accuracy: 0.8247\n",
      "Epoch 17/20\n",
      "858/858 [==============================] - 2s 2ms/step - loss: 0.1413 - accuracy: 0.9759 - val_loss: 2.5007 - val_accuracy: 0.7619\n",
      "Epoch 18/20\n",
      "858/858 [==============================] - 2s 2ms/step - loss: 0.1471 - accuracy: 0.9770 - val_loss: 1.8581 - val_accuracy: 0.8108\n",
      "Epoch 19/20\n",
      "858/858 [==============================] - 2s 2ms/step - loss: 0.1304 - accuracy: 0.9761 - val_loss: 2.1155 - val_accuracy: 0.8232\n",
      "Epoch 20/20\n",
      "858/858 [==============================] - 2s 2ms/step - loss: 0.1349 - accuracy: 0.9796 - val_loss: 1.7953 - val_accuracy: 0.8192\n"
     ]
    }
   ],
   "source": [
    "history = model.fit(X_train, y_train, epochs=20, verbose=1, validation_data=(X_test, y_test))"
   ]
  },
  {
   "cell_type": "code",
   "execution_count": 49,
   "id": "bc9cc2eb-7737-4710-8112-01be4d9517e9",
   "metadata": {},
   "outputs": [
    {
     "data": {
      "image/png": "[encoded data removed]",
      "text/plain": [
       "<Figure size 432x288 with 1 Axes>"
      ]
     },
     "metadata": {
      "needs_background": "light"
     },
     "output_type": "display_data"
    },
    {
     "data": {
      "image/png": "[encoded data removed]",
      "text/plain": [
       "<Figure size 432x288 with 1 Axes>"
      ]
     },
     "metadata": {
      "needs_background": "light"
     },
     "output_type": "display_data"
    }
   ],
   "source": [
    "# Make some nice plots\n",
    "\n",
    "\n",
    "    \n",
    "plot_history(history)"
   ]
  },
  {
   "cell_type": "markdown",
   "id": "2013534a-5b93-4246-9e6e-ba024b3a0089",
   "metadata": {},
   "source": [
    "## How can we imrove our model?\n",
    "\n",
    "Honestly, that's not too bad with the data we have. About 80% accuracy for greyscale images 28X28 pixels seems remarkable to me! But, notice that the test accuracy is well below the training accuracy and test loss is going up or staying the same. We are overfitting our data.\n",
    "\n",
    "We can do a number of things to improve on these results! Let's take a look.\n",
    "\n",
    "Let's look at some slides that cover convolutional kernels, pooling, dropout and data augmentation for image classification in neural networks: [Lect_06_CNNs slides](https://docs.google.com/presentation/d/1uSk7xHWZ9H6YihUP4OdHpIVws_2py_HBfbby7GpZDCA/edit?usp=sharing)\n",
    "\n",
    "Then, we can move to [part 2](17_CNNs_part2.ipynb) of this section."
   ]
  }
 ],
 "metadata": {
  "kernelspec": {
   "display_name": "Tensorflow-2.6.0",
   "language": "python",
   "name": "tensorflow-2.6.0"
  },
  "language_info": {
   "codemirror_mode": {
    "name": "ipython",
    "version": 3
   },
   "file_extension": ".py",
   "mimetype": "text/x-python",
   "name": "python",
   "nbconvert_exporter": "python",
   "pygments_lexer": "ipython3",
   "version": "3.9.7"
  }
 },
 "nbformat": 4,
 "nbformat_minor": 5
}
